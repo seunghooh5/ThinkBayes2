{
 "cells": [
  {
   "cell_type": "markdown",
   "id": "d399be65",
   "metadata": {
    "toc": true
   },
   "source": [
    "<h1>Table of Contents<span class=\"tocSkip\"></span></h1>\n",
    "<div class=\"toc\"><ul class=\"toc-item\"><li><ul class=\"toc-item\"><li><span><a href=\"#Linda-the-Banker\" data-toc-modified-id=\"Linda-the-Banker-0.1\"><span class=\"toc-item-num\">0.1&nbsp;&nbsp;</span>Linda the Banker</a></span></li><li><span><a href=\"#Probability\" data-toc-modified-id=\"Probability-0.2\"><span class=\"toc-item-num\">0.2&nbsp;&nbsp;</span>Probability</a></span></li><li><span><a href=\"#Fraction-of-Bankers\" data-toc-modified-id=\"Fraction-of-Bankers-0.3\"><span class=\"toc-item-num\">0.3&nbsp;&nbsp;</span>Fraction of Bankers</a></span></li></ul></li><li><span><a href=\"#The-Probability-Function\" data-toc-modified-id=\"The-Probability-Function-1\"><span class=\"toc-item-num\">1&nbsp;&nbsp;</span>The Probability Function</a></span></li><li><span><a href=\"#Political-Views-and-Parties\" data-toc-modified-id=\"Political-Views-and-Parties-2\"><span class=\"toc-item-num\">2&nbsp;&nbsp;</span>Political Views and Parties</a></span></li></ul></div>"
   ]
  },
  {
   "cell_type": "markdown",
   "id": "99a7d73f",
   "metadata": {},
   "source": [
    "## Linda the Banker"
   ]
  },
  {
   "cell_type": "markdown",
   "id": "53b1fd45",
   "metadata": {},
   "source": [
    "<blockquote>\n",
    "    So there's a woman named Linda. Linda is 31 years old, single, outspoken, and very bright. She majored in philosophy. As a student, she was deeply concerned with issues of discrimination and social justice, and also participated in anti-nuclear demonstrations.\n",
    "    Which is more probable?\n",
    "    \n",
    "    1. Linda is a bank teller.\n",
    "    2. Linda is a bank teller and is active in the feminist movement.\n",
    "</blockquote>"
   ]
  },
  {
   "cell_type": "markdown",
   "id": "680c3ee5",
   "metadata": {},
   "source": [
    "It seems the second statement is more probable."
   ]
  },
  {
   "cell_type": "markdown",
   "id": "6321e3a7",
   "metadata": {},
   "source": [
    "## Probability"
   ]
  },
  {
   "cell_type": "markdown",
   "id": "5fea1f4e",
   "metadata": {},
   "source": [
    "So, what's probability? It's a surprisingly difficult question, though, if you refer to this document on [probability interpretation](https://en.wikipedia.org/wiki/Probability_interpretations).\n",
    "To avoid getting stuck before we start, we will use a simple definition for now and refine it later; A probability is a fraction of a finite set.\n",
    "So, if we survey 1000 people, and 20 of them are bank tellers, the fraction taht work as bank tellers is 0.02 or 2%. If we choose a random person from this population, the probability that he/she is a bank teller is 2%. By \"at random\", it means that every person in the dataset has the same chance of being chosen. (This might not always be the case, though.)\n",
    "With this deifnition and an appropriate dataset, we can compute probabilities by counting. We'll use data from [General Social Survey](http://gss.norc.org/) (GSS), for a demonstration."
   ]
  },
  {
   "cell_type": "code",
   "execution_count": 1,
   "id": "cf029a57",
   "metadata": {
    "ExecuteTime": {
     "end_time": "2022-10-18T04:16:09.150932Z",
     "start_time": "2022-10-18T04:16:08.685405Z"
    }
   },
   "outputs": [
    {
     "data": {
      "text/html": [
       "<div>\n",
       "<style scoped>\n",
       "    .dataframe tbody tr th:only-of-type {\n",
       "        vertical-align: middle;\n",
       "    }\n",
       "\n",
       "    .dataframe tbody tr th {\n",
       "        vertical-align: top;\n",
       "    }\n",
       "\n",
       "    .dataframe thead th {\n",
       "        text-align: right;\n",
       "    }\n",
       "</style>\n",
       "<table border=\"1\" class=\"dataframe\">\n",
       "  <thead>\n",
       "    <tr style=\"text-align: right;\">\n",
       "      <th></th>\n",
       "      <th>year</th>\n",
       "      <th>age</th>\n",
       "      <th>sex</th>\n",
       "      <th>polviews</th>\n",
       "      <th>partyid</th>\n",
       "      <th>indus10</th>\n",
       "    </tr>\n",
       "    <tr>\n",
       "      <th>caseid</th>\n",
       "      <th></th>\n",
       "      <th></th>\n",
       "      <th></th>\n",
       "      <th></th>\n",
       "      <th></th>\n",
       "      <th></th>\n",
       "    </tr>\n",
       "  </thead>\n",
       "  <tbody>\n",
       "    <tr>\n",
       "      <th>1</th>\n",
       "      <td>1974</td>\n",
       "      <td>21.0</td>\n",
       "      <td>1</td>\n",
       "      <td>4.0</td>\n",
       "      <td>2.0</td>\n",
       "      <td>4970.0</td>\n",
       "    </tr>\n",
       "    <tr>\n",
       "      <th>2</th>\n",
       "      <td>1974</td>\n",
       "      <td>41.0</td>\n",
       "      <td>1</td>\n",
       "      <td>5.0</td>\n",
       "      <td>0.0</td>\n",
       "      <td>9160.0</td>\n",
       "    </tr>\n",
       "    <tr>\n",
       "      <th>5</th>\n",
       "      <td>1974</td>\n",
       "      <td>58.0</td>\n",
       "      <td>2</td>\n",
       "      <td>6.0</td>\n",
       "      <td>1.0</td>\n",
       "      <td>2670.0</td>\n",
       "    </tr>\n",
       "    <tr>\n",
       "      <th>6</th>\n",
       "      <td>1974</td>\n",
       "      <td>30.0</td>\n",
       "      <td>1</td>\n",
       "      <td>5.0</td>\n",
       "      <td>4.0</td>\n",
       "      <td>6870.0</td>\n",
       "    </tr>\n",
       "    <tr>\n",
       "      <th>7</th>\n",
       "      <td>1974</td>\n",
       "      <td>48.0</td>\n",
       "      <td>1</td>\n",
       "      <td>5.0</td>\n",
       "      <td>4.0</td>\n",
       "      <td>7860.0</td>\n",
       "    </tr>\n",
       "  </tbody>\n",
       "</table>\n",
       "</div>"
      ],
      "text/plain": [
       "        year   age  sex  polviews  partyid  indus10\n",
       "caseid                                             \n",
       "1       1974  21.0    1       4.0      2.0   4970.0\n",
       "2       1974  41.0    1       5.0      0.0   9160.0\n",
       "5       1974  58.0    2       6.0      1.0   2670.0\n",
       "6       1974  30.0    1       5.0      4.0   6870.0\n",
       "7       1974  48.0    1       5.0      4.0   7860.0"
      ]
     },
     "execution_count": 1,
     "metadata": {},
     "output_type": "execute_result"
    }
   ],
   "source": [
    "import pandas as pd\n",
    "gss = pd.read_csv('gss_bayes.csv', index_col=0)\n",
    "gss.head()"
   ]
  },
  {
   "cell_type": "markdown",
   "id": "f50827c5",
   "metadata": {},
   "source": [
    "The `DataFrame` has one row for each person surveyed and one column for each variable selected.\n",
    "\n",
    "The columns are\n",
    "\n",
    "- `caseid`: Respondent id (which is the index of the table).\n",
    "- `year`: Year when the respondent was surveyed.\n",
    "- `age`: Respondent's age when surveyed.\n",
    "- `sex`: Male or female.\n",
    "- `polviews`: Political views on a range from liberal to conservative.\n",
    "- `partyid`: Political party affiliation, Democrat, Independent, or Republican.\n",
    "- `indus10`: [Code](https://gssdataexplorer.norc.org/variables/17/vshow) for the industry the respondent works in.\n",
    "\n",
    "Let's look at these variables in more detail, starting with `indus10`."
   ]
  },
  {
   "cell_type": "markdown",
   "id": "e1be51ee",
   "metadata": {},
   "source": [
    "## Fraction of Bankers"
   ]
  },
  {
   "cell_type": "markdown",
   "id": "aee650e0",
   "metadata": {},
   "source": [
    "The code for \"Banking and related activities\" is 6870, so we can select bankers like this:\n",
    "\n",
    "![gss_banking](\"/home/scratch/ThinkBayes2/Screenshot_20221018_141110.png\")\n",
    "\n"
   ]
  },
  {
   "cell_type": "code",
   "execution_count": 3,
   "id": "6ea1531b",
   "metadata": {
    "ExecuteTime": {
     "end_time": "2022-10-18T05:15:38.705807Z",
     "start_time": "2022-10-18T05:15:38.692622Z"
    }
   },
   "outputs": [
    {
     "data": {
      "text/plain": [
       "caseid\n",
       "1    False\n",
       "2    False\n",
       "5    False\n",
       "6     True\n",
       "7    False\n",
       "Name: indus10, dtype: bool"
      ]
     },
     "execution_count": 3,
     "metadata": {},
     "output_type": "execute_result"
    }
   ],
   "source": [
    "banker = (gss['indus10'] == 6870)\n",
    "banker.head()"
   ]
  },
  {
   "cell_type": "markdown",
   "id": "035cd5ae",
   "metadata": {},
   "source": [
    "The result is a Pandas `Series` that contains the Boolean values `True` or `False`.\n",
    "\n",
    "If we use the `sum` function on this `Series`, it treats True as 1 and False as -, so the total is the number of the bankers."
   ]
  },
  {
   "cell_type": "code",
   "execution_count": 4,
   "id": "211e179e",
   "metadata": {
    "ExecuteTime": {
     "end_time": "2022-10-18T05:17:30.615443Z",
     "start_time": "2022-10-18T05:17:30.609841Z"
    }
   },
   "outputs": [
    {
     "data": {
      "text/plain": [
       "728"
      ]
     },
     "execution_count": 4,
     "metadata": {},
     "output_type": "execute_result"
    }
   ],
   "source": [
    "banker.sum()"
   ]
  },
  {
   "cell_type": "markdown",
   "id": "0c2dcc96",
   "metadata": {},
   "source": [
    "Now, compute the *fraction* of bankers by using `mean`."
   ]
  },
  {
   "cell_type": "code",
   "execution_count": 5,
   "id": "7a1dc9d2",
   "metadata": {
    "ExecuteTime": {
     "end_time": "2022-10-18T05:18:23.828756Z",
     "start_time": "2022-10-18T05:18:23.822892Z"
    }
   },
   "outputs": [
    {
     "data": {
      "text/plain": [
       "0.014769730168391155"
      ]
     },
     "execution_count": 5,
     "metadata": {},
     "output_type": "execute_result"
    }
   ],
   "source": [
    "banker.mean()"
   ]
  },
  {
   "cell_type": "markdown",
   "id": "07ac0fd4",
   "metadata": {},
   "source": [
    "About 1.5% of the respondents work in banking industry, so if we choose a random person from the dataset, the probability that they are a banker is about 1.5%."
   ]
  },
  {
   "cell_type": "markdown",
   "id": "24c8ba86",
   "metadata": {},
   "source": [
    "# The Probability Function"
   ]
  },
  {
   "cell_type": "markdown",
   "id": "4676ef9b",
   "metadata": {},
   "source": [
    "Now, put the code from the previous section in a function that takes a Boolean series and returns a prrobability:"
   ]
  },
  {
   "cell_type": "code",
   "execution_count": 6,
   "id": "8f74a75e",
   "metadata": {
    "ExecuteTime": {
     "end_time": "2022-10-18T05:20:29.409160Z",
     "start_time": "2022-10-18T05:20:29.405019Z"
    }
   },
   "outputs": [],
   "source": [
    "def prob(A):\n",
    "    \"\"\"Computes the probability of a proposition, A\"\"\"\n",
    "    return A.mean()"
   ]
  },
  {
   "cell_type": "markdown",
   "id": "10ff365a",
   "metadata": {},
   "source": [
    "So we can compute the fraction of bankers like this:\n"
   ]
  },
  {
   "cell_type": "code",
   "execution_count": 7,
   "id": "082c8e8b",
   "metadata": {
    "ExecuteTime": {
     "end_time": "2022-10-18T05:20:51.765059Z",
     "start_time": "2022-10-18T05:20:51.760376Z"
    }
   },
   "outputs": [
    {
     "data": {
      "text/plain": [
       "0.014769730168391155"
      ]
     },
     "execution_count": 7,
     "metadata": {},
     "output_type": "execute_result"
    }
   ],
   "source": [
    "prob(banker)"
   ]
  },
  {
   "cell_type": "markdown",
   "id": "fd0d9c9e",
   "metadata": {},
   "source": [
    "Now let's look at another variable in this dataset. The values of the column `sex` are encoded like this:"
   ]
  },
  {
   "cell_type": "raw",
   "id": "c7ef432b",
   "metadata": {},
   "source": [
    "1 Male\n",
    "2 Female"
   ]
  },
  {
   "cell_type": "markdown",
   "id": "9dea1374",
   "metadata": {},
   "source": [
    "So we can make a Boolean series that is `True` for female respondents and `False` otherwise."
   ]
  },
  {
   "cell_type": "code",
   "execution_count": 8,
   "id": "7b08c4b3",
   "metadata": {
    "ExecuteTime": {
     "end_time": "2022-10-18T05:22:47.667511Z",
     "start_time": "2022-10-18T05:22:47.657542Z"
    }
   },
   "outputs": [],
   "source": [
    "female = (gss['sex'] == 2)"
   ]
  },
  {
   "cell_type": "code",
   "execution_count": 9,
   "id": "0456b10a",
   "metadata": {
    "ExecuteTime": {
     "end_time": "2022-10-18T05:22:57.693726Z",
     "start_time": "2022-10-18T05:22:57.688269Z"
    }
   },
   "outputs": [
    {
     "data": {
      "text/plain": [
       "caseid\n",
       "1    False\n",
       "2    False\n",
       "5     True\n",
       "6    False\n",
       "7    False\n",
       "Name: sex, dtype: bool"
      ]
     },
     "execution_count": 9,
     "metadata": {},
     "output_type": "execute_result"
    }
   ],
   "source": [
    "female.head()"
   ]
  },
  {
   "cell_type": "markdown",
   "id": "a1ac4a64",
   "metadata": {},
   "source": [
    "We can use this boolean series to compute the fraction of respondents who are women."
   ]
  },
  {
   "cell_type": "code",
   "execution_count": 10,
   "id": "0461d215",
   "metadata": {
    "ExecuteTime": {
     "end_time": "2022-10-18T05:23:31.973692Z",
     "start_time": "2022-10-18T05:23:31.968815Z"
    }
   },
   "outputs": [
    {
     "data": {
      "text/plain": [
       "0.5378575776019476"
      ]
     },
     "execution_count": 10,
     "metadata": {},
     "output_type": "execute_result"
    }
   ],
   "source": [
    "prob(female)"
   ]
  },
  {
   "cell_type": "markdown",
   "id": "5ebea55d",
   "metadata": {},
   "source": [
    "# Political Views and Parties"
   ]
  },
  {
   "cell_type": "markdown",
   "id": "cf8967e4",
   "metadata": {},
   "source": [
    "The other variables considered are `polviews`, which describes the political views of the respondents, and `partyid`, which describes their affiliation with a political party.\n",
    "\n",
    "The values of `polviews` are one a seven-point scale:"
   ]
  },
  {
   "cell_type": "raw",
   "id": "4b306e7a",
   "metadata": {},
   "source": [
    "1 Extremely liberal\n",
    "2 Liberal\n",
    "3 Slightly liberal\n",
    "4 Moderate\n",
    "5 Slightly conservative\n",
    "7 Extremely conservative"
   ]
  }
 ],
 "metadata": {
  "kernelspec": {
   "display_name": "Python 3 (ipykernel)",
   "language": "python",
   "name": "python3"
  },
  "language_info": {
   "codemirror_mode": {
    "name": "ipython",
    "version": 3
   },
   "file_extension": ".py",
   "mimetype": "text/x-python",
   "name": "python",
   "nbconvert_exporter": "python",
   "pygments_lexer": "ipython3",
   "version": "3.10.6"
  },
  "toc": {
   "base_numbering": 1,
   "nav_menu": {},
   "number_sections": true,
   "sideBar": true,
   "skip_h1_title": false,
   "title_cell": "Table of Contents",
   "title_sidebar": "Contents",
   "toc_cell": true,
   "toc_position": {},
   "toc_section_display": true,
   "toc_window_display": true
  }
 },
 "nbformat": 4,
 "nbformat_minor": 5
}
